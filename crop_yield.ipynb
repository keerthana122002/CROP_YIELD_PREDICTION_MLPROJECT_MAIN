{
 "cells": [
  {
   "cell_type": "markdown",
   "metadata": {},
   "source": [
    "TO TRAIN A CROP YIELD PREDICTION MODEL"
   ]
  },
  {
   "cell_type": "markdown",
   "metadata": {},
   "source": [
    "IMPORT HEADER"
   ]
  },
  {
   "cell_type": "code",
   "execution_count": 11,
   "metadata": {},
   "outputs": [],
   "source": [
    "import numpy as np\n",
    "import pandas as pd\n",
    "import pickle\n",
    "from sklearn.preprocessing import MinMaxScaler, LabelEncoder\n",
    "from sklearn.ensemble import RandomForestRegressor, GradientBoostingRegressor\n",
    "from sklearn.svm import SVR\n",
    "from sklearn.linear_model import LinearRegression\n",
    "from sklearn.metrics import r2_score, mean_absolute_error, mean_squared_error"
   ]
  },
  {
   "cell_type": "markdown",
   "metadata": {},
   "source": [
    "LOAD DATASET"
   ]
  },
  {
   "cell_type": "code",
   "execution_count": 12,
   "metadata": {},
   "outputs": [],
   "source": [
    "file_path = \"Crop_Yield_Data_India_With_Crop_Names.csv\"\n",
    "crop_yield_data = pd.read_csv(file_path)\n"
   ]
  },
  {
   "cell_type": "markdown",
   "metadata": {},
   "source": [
    "FIX COLUMN NAMES"
   ]
  },
  {
   "cell_type": "code",
   "execution_count": 13,
   "metadata": {},
   "outputs": [],
   "source": [
    "crop_yield_data.rename(columns={'Crop Name': 'Crop', 'precipitati': 'precipitation', 'temperatu': 'temperature_2m'}, inplace=True)"
   ]
  },
  {
   "cell_type": "markdown",
   "metadata": {},
   "source": [
    "DROP UNNECESSARY COLUMNS"
   ]
  },
  {
   "cell_type": "code",
   "execution_count": 14,
   "metadata": {},
   "outputs": [],
   "source": [
    "crop_yield_data.drop(columns=[\"system:index\", \".geo\"], errors='ignore', inplace=True)"
   ]
  },
  {
   "cell_type": "markdown",
   "metadata": {},
   "source": [
    "CONVERT TEMPERATURE FROM KELVIN TO CELSIUS"
   ]
  },
  {
   "cell_type": "code",
   "execution_count": 15,
   "metadata": {},
   "outputs": [],
   "source": [
    "crop_yield_data[\"temperature_2m\"] = crop_yield_data[\"temperature_2m\"] - 273.15\n"
   ]
  },
  {
   "cell_type": "markdown",
   "metadata": {},
   "source": [
    "Normalize NDVI if Required"
   ]
  },
  {
   "cell_type": "code",
   "execution_count": 16,
   "metadata": {},
   "outputs": [],
   "source": [
    "if crop_yield_data[\"NDVI\"].max() > 1 or crop_yield_data[\"NDVI\"].min() < -1:\n",
    "    crop_yield_data[\"NDVI\"] = crop_yield_data[\"NDVI\"] / 10000  "
   ]
  },
  {
   "cell_type": "markdown",
   "metadata": {},
   "source": [
    "Encode Categorical Data"
   ]
  },
  {
   "cell_type": "code",
   "execution_count": 17,
   "metadata": {},
   "outputs": [],
   "source": [
    "state_encoder = LabelEncoder()\n",
    "crop_encoder = LabelEncoder()\n",
    "crop_yield_data[\"State\"] = state_encoder.fit_transform(crop_yield_data[\"State\"])\n",
    "crop_yield_data[\"Crop\"] = crop_encoder.fit_transform(crop_yield_data[\"Crop\"])"
   ]
  },
  {
   "cell_type": "markdown",
   "metadata": {},
   "source": [
    "Define Features & Target"
   ]
  },
  {
   "cell_type": "code",
   "execution_count": 18,
   "metadata": {},
   "outputs": [],
   "source": [
    "feature_columns = [\"State\", \"Crop\", \"precipitation\", \"temperature_2m\"]  \n",
    "X = crop_yield_data[feature_columns]  \n",
    "y = crop_yield_data[\"NDVI\"]"
   ]
  },
  {
   "cell_type": "markdown",
   "metadata": {},
   "source": [
    "Feature Scaling"
   ]
  },
  {
   "cell_type": "code",
   "execution_count": 19,
   "metadata": {},
   "outputs": [],
   "source": [
    "scaler = MinMaxScaler()\n",
    "X_scaled = scaler.fit_transform(X)"
   ]
  },
  {
   "cell_type": "markdown",
   "metadata": {},
   "source": [
    "Train Multiple Models"
   ]
  },
  {
   "cell_type": "code",
   "execution_count": 20,
   "metadata": {},
   "outputs": [
    {
     "name": "stdout",
     "output_type": "stream",
     "text": [
      "Random Forest Model Performance:\n",
      "✅ R2 Score: 93.14%\n",
      "✅ MAE: 0.0358\n",
      "✅ MSE: 0.0026\n",
      "====================================\n",
      "Linear Regression Model Performance:\n",
      "✅ R2 Score: 24.91%\n",
      "✅ MAE: 0.1411\n",
      "✅ MSE: 0.0289\n",
      "====================================\n",
      "Support Vector Machine Model Performance:\n",
      "✅ R2 Score: 62.31%\n",
      "✅ MAE: 0.0929\n",
      "✅ MSE: 0.0145\n",
      "====================================\n",
      "Gradient Boosting Model Performance:\n",
      "✅ R2 Score: 65.34%\n",
      "✅ MAE: 0.0890\n",
      "✅ MSE: 0.0133\n",
      "====================================\n"
     ]
    }
   ],
   "source": [
    "models = {\n",
    "    \"Random Forest\": RandomForestRegressor(n_estimators=100, random_state=42),\n",
    "    \"Linear Regression\": LinearRegression(),\n",
    "    \"Support Vector Machine\": SVR(kernel='rbf'),\n",
    "    \"Gradient Boosting\": GradientBoostingRegressor(n_estimators=100, random_state=42)\n",
    "}\n",
    "\n",
    "model_scores = {}\n",
    "for model_name, model in models.items():\n",
    "    model.fit(X_scaled, y)\n",
    "    y_pred = model.predict(X_scaled)\n",
    "    r2 = r2_score(y, y_pred) * 100\n",
    "    mae = mean_absolute_error(y, y_pred)\n",
    "    mse = mean_squared_error(y, y_pred)\n",
    "    model_scores[model_name] = r2\n",
    "    print(f\"{model_name} Model Performance:\")\n",
    "    print(f\"✅ R2 Score: {r2:.2f}%\")\n",
    "    print(f\"✅ MAE: {mae:.4f}\")\n",
    "    print(f\"✅ MSE: {mse:.4f}\")\n",
    "    print(\"====================================\")\n"
   ]
  },
  {
   "cell_type": "markdown",
   "metadata": {},
   "source": [
    "Select Best Model"
   ]
  },
  {
   "cell_type": "code",
   "execution_count": 21,
   "metadata": {},
   "outputs": [
    {
     "name": "stdout",
     "output_type": "stream",
     "text": [
      "🎯 Best Model: Random Forest with 93.14% Accuracy\n"
     ]
    }
   ],
   "source": [
    "best_model_name = max(model_scores, key=model_scores.get)\n",
    "best_model = models[best_model_name]\n",
    "print(f\"🎯 Best Model: {best_model_name} with {model_scores[best_model_name]:.2f}% Accuracy\")"
   ]
  },
  {
   "cell_type": "markdown",
   "metadata": {},
   "source": [
    "Save Best Model & Encoders"
   ]
  },
  {
   "cell_type": "code",
   "execution_count": 22,
   "metadata": {},
   "outputs": [],
   "source": [
    "pickle.dump(best_model, open('model.pkl', 'wb'))\n",
    "pickle.dump(scaler, open('scaler.pkl', 'wb'))\n",
    "pickle.dump(state_encoder, open('state_encoder.pkl', 'wb'))\n",
    "pickle.dump(crop_encoder, open('crop_encoder.pkl', 'wb'))"
   ]
  },
  {
   "cell_type": "markdown",
   "metadata": {},
   "source": [
    "=================== ✅ PREDICT FUNCTION (NO CROP INPUT REQUIRED) ==================="
   ]
  },
  {
   "cell_type": "code",
   "execution_count": 23,
   "metadata": {},
   "outputs": [],
   "source": [
    "def predict_yield(state_name):\n",
    "    model = pickle.load(open('model.pkl', 'rb'))\n",
    "    scaler = pickle.load(open('scaler.pkl', 'rb'))\n",
    "    state_encoder = pickle.load(open('state_encoder.pkl', 'rb'))\n",
    "    crop_encoder = pickle.load(open('crop_encoder.pkl', 'rb'))\n",
    "    \n",
    "    if state_name not in state_encoder.classes_:\n",
    "        print(f\"❌ Error: State '{state_name}' not found in dataset!\")\n",
    "        return\n",
    "\n",
    "    state_encoded = state_encoder.transform([state_name])[0]\n",
    "    state_data = crop_yield_data[crop_yield_data[\"State\"] == state_encoded]\n",
    "    \n",
    "    if state_data.empty:\n",
    "        print(f\"❌ No data found for {state_name}!\")\n",
    "        return\n",
    "    \n",
    "    most_common_crop_encoded = state_data[\"Crop\"].mode()[0]\n",
    "    most_common_crop = crop_encoder.inverse_transform([most_common_crop_encoded])[0]\n",
    "    \n",
    "    state_crop_data = state_data[state_data[\"Crop\"] == most_common_crop_encoded]\n",
    "    avg_precipitation = state_crop_data[\"precipitation\"].mean()\n",
    "    avg_temperature_celsius = state_crop_data[\"temperature_2m\"].mean()\n",
    "    \n",
    "    sample_input = pd.DataFrame([[state_encoded, most_common_crop_encoded, avg_precipitation, avg_temperature_celsius]], \n",
    "                                columns=feature_columns)\n",
    "    \n",
    "    sample_input_scaled = scaler.transform(sample_input)  \n",
    "    predicted_ndvi = model.predict(sample_input_scaled)[0]\n",
    "    predicted_ndvi = max(-1, min(1, predicted_ndvi))\n",
    "    crop_yield_tons = (predicted_ndvi + 1) * 3  \n",
    "    \n",
    "    print(f\"\\n🌾 Predicted Data for {state_name}:\")\n",
    "    print(f\"- Crop: {most_common_crop}\")\n",
    "    print(f\"- Precipitation: {avg_precipitation:.2f} mm\")\n",
    "    print(f\"- Temperature: {avg_temperature_celsius:.2f}°C\")\n",
    "    print(f\"- NDVI: {predicted_ndvi:.4f}\")  \n",
    "    print(f\"- Estimated Crop Yield: {crop_yield_tons:.2f} tons per hectare\")\n"
   ]
  },
  {
   "cell_type": "markdown",
   "metadata": {},
   "source": [
    "✅ Example Usage"
   ]
  },
  {
   "cell_type": "code",
   "execution_count": 24,
   "metadata": {},
   "outputs": [
    {
     "name": "stdout",
     "output_type": "stream",
     "text": [
      "\n",
      "🌾 Predicted Data for Punjab:\n",
      "- Crop: Wheat\n",
      "- Precipitation: 2.58 mm\n",
      "- Temperature: 23.42°C\n",
      "- NDVI: 0.7893\n",
      "- Estimated Crop Yield: 5.37 tons per hectare\n",
      "\n",
      "🌾 Predicted Data for Kerala:\n",
      "- Crop: Coconut\n",
      "- Precipitation: 6.85 mm\n",
      "- Temperature: 25.25°C\n",
      "- NDVI: 0.8200\n",
      "- Estimated Crop Yield: 5.46 tons per hectare\n",
      "\n",
      "🌾 Predicted Data for Karnataka:\n",
      "- Crop: Sugarcane\n",
      "- Precipitation: 2.50 mm\n",
      "- Temperature: 25.20°C\n",
      "- NDVI: 0.5227\n",
      "- Estimated Crop Yield: 4.57 tons per hectare\n"
     ]
    }
   ],
   "source": [
    "\n",
    "predict_yield(\"Punjab\")\n",
    "predict_yield(\"Kerala\")\n",
    "predict_yield(\"Karnataka\")"
   ]
  },
  {
   "cell_type": "code",
   "execution_count": 25,
   "metadata": {},
   "outputs": [
    {
     "name": "stdout",
     "output_type": "stream",
     "text": [
      "\n",
      "🌾 Predicted Data for Tamil Nadu:\n",
      "- Crop: Rice\n",
      "- Precipitation: 3.51 mm\n",
      "- Temperature: 26.87°C\n",
      "- NDVI: 0.5482\n",
      "- Estimated Crop Yield: 4.64 tons per hectare\n"
     ]
    }
   ],
   "source": [
    "predict_yield(\"Tamil Nadu\")\n",
    "\n"
   ]
  },
  {
   "cell_type": "code",
   "execution_count": 10,
   "metadata": {},
   "outputs": [
    {
     "name": "stdout",
     "output_type": "stream",
     "text": [
      "\n",
      "🌾 Predicted Data for West Bengal:\n",
      "- Crop: Rice\n",
      "- Precipitation: 4.19 mm\n",
      "- Temperature: 25.89°C\n",
      "- NDVI: 0.5595\n",
      "- Estimated Crop Yield: 4.68 tons per hectare\n",
      "\n",
      "🌾 Predicted Data for Madhya Pradesh:\n",
      "- Crop: Wheat\n",
      "- Precipitation: 2.89 mm\n",
      "- Temperature: 24.94°C\n",
      "- NDVI: 0.5298\n",
      "- Estimated Crop Yield: 4.59 tons per hectare\n"
     ]
    }
   ],
   "source": [
    "\n",
    "predict_yield(\"West Bengal\")\n",
    "predict_yield(\"Madhya Pradesh\")"
   ]
  }
 ],
 "metadata": {
  "kernelspec": {
   "display_name": "Python 3",
   "language": "python",
   "name": "python3"
  },
  "language_info": {
   "codemirror_mode": {
    "name": "ipython",
    "version": 3
   },
   "file_extension": ".py",
   "mimetype": "text/x-python",
   "name": "python",
   "nbconvert_exporter": "python",
   "pygments_lexer": "ipython3",
   "version": "3.13.1"
  }
 },
 "nbformat": 4,
 "nbformat_minor": 2
}
